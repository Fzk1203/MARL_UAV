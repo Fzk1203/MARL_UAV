{
 "cells": [
  {
   "cell_type": "markdown",
   "source": [
    "1. Set up Hyperparamters"
   ],
   "metadata": {
    "collapsed": false
   }
  },
  {
   "cell_type": "code",
   "execution_count": 2,
   "outputs": [],
   "source": [
    "import math\n",
    "import numpy as np\n",
    "d = 500  #m\n",
    "H = 100 #m\n",
    "sigma = -80 #dBm (mu 2)\n",
    "W = 75E5 #Hz\n",
    "T_s = 0.1   #s\n",
    "a = 9.61\n",
    "b = 0.16\n",
    "f = 2E9\n",
    "eta_Los = 1\n",
    "eta_NLos = 20\n",
    "d_o = 1     #m\n",
    "Beta_o = -60 #dB\n",
    "alpha = 2\n",
    "c_a = 0.5\n",
    "p_a = 0.8\n",
    "delta = 1\n",
    "pi = math.pi\n",
    "c = np.float64(299792458)"
   ],
   "metadata": {
    "collapsed": false
   }
  },
  {
   "cell_type": "markdown",
   "source": [
    "2. Prob Model"
   ],
   "metadata": {
    "collapsed": false
   }
  },
  {
   "cell_type": "code",
   "execution_count": 3,
   "outputs": [
    {
     "data": {
      "text/plain": "0.9993764220725527"
     },
     "execution_count": 3,
     "metadata": {},
     "output_type": "execute_result"
    }
   ],
   "source": [
    "from Model import Prob_Model\n",
    "\n",
    "prob_model = Prob_Model.Prob_model()\n",
    "P_LoS = prob_model.P_LoS(a, b, H, d)\n",
    "P_LoS"
   ],
   "metadata": {
    "collapsed": false
   }
  },
  {
   "cell_type": "code",
   "execution_count": 4,
   "outputs": [
    {
     "data": {
      "text/plain": "0.0006235779274472719"
     },
     "execution_count": 4,
     "metadata": {},
     "output_type": "execute_result"
    }
   ],
   "source": [
    "P_NLoS = 1 - P_LoS\n",
    "P_NLoS"
   ],
   "metadata": {
    "collapsed": false
   }
  },
  {
   "cell_type": "code",
   "execution_count": 5,
   "outputs": [
    {
     "data": {
      "text/plain": "93.44778322188336"
     },
     "execution_count": 5,
     "metadata": {},
     "output_type": "execute_result"
    }
   ],
   "source": [
    "PL_LoS = prob_model.PL_LoS(d, f, pi, c, eta_Los)\n",
    "PL_LoS"
   ],
   "metadata": {
    "collapsed": false
   }
  },
  {
   "cell_type": "code",
   "execution_count": 6,
   "outputs": [
    {
     "data": {
      "text/plain": "112.44778322188336"
     },
     "execution_count": 6,
     "metadata": {},
     "output_type": "execute_result"
    }
   ],
   "source": [
    "PL_NLoS = prob_model.PL_NLoS(d, f, pi, c, eta_NLos)\n",
    "PL_NLoS"
   ],
   "metadata": {
    "collapsed": false
   }
  },
  {
   "cell_type": "code",
   "execution_count": null,
   "outputs": [],
   "source": [],
   "metadata": {
    "collapsed": false
   }
  }
 ],
 "metadata": {
  "kernelspec": {
   "display_name": "Python 3",
   "language": "python",
   "name": "python3"
  },
  "language_info": {
   "codemirror_mode": {
    "name": "ipython",
    "version": 2
   },
   "file_extension": ".py",
   "mimetype": "text/x-python",
   "name": "python",
   "nbconvert_exporter": "python",
   "pygments_lexer": "ipython2",
   "version": "2.7.6"
  }
 },
 "nbformat": 4,
 "nbformat_minor": 0
}
